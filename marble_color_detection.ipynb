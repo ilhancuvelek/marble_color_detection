{
 "cells": [
  {
   "cell_type": "code",
   "execution_count": 1,
   "id": "03a07451",
   "metadata": {},
   "outputs": [],
   "source": [
    "import matplotlib.pyplot as plt\n",
    "import numpy as np\n",
    "import os\n",
    "import PIL\n",
    "import tensorflow as tf\n",
    "\n",
    "from tensorflow import keras\n",
    "from tensorflow.keras import layers\n",
    "from tensorflow.keras.models import Sequential"
   ]
  },
  {
   "cell_type": "code",
   "execution_count": 2,
   "id": "aefb1712",
   "metadata": {},
   "outputs": [],
   "source": [
    "data_dir=\"marble_dataset\"\n",
    "batch_size = 32\n",
    "img_height = 180\n",
    "img_width = 180"
   ]
  },
  {
   "cell_type": "code",
   "execution_count": 3,
   "id": "9b49cb03",
   "metadata": {},
   "outputs": [
    {
     "name": "stdout",
     "output_type": "stream",
     "text": [
      "Found 516 files belonging to 5 classes.\n",
      "Using 413 files for training.\n"
     ]
    }
   ],
   "source": [
    "train_ds = tf.keras.utils.image_dataset_from_directory(\n",
    "  data_dir,\n",
    "  validation_split=0.2,\n",
    "  subset=\"training\",\n",
    "  seed=123,\n",
    "  image_size=(img_height, img_width),\n",
    "  batch_size=batch_size)"
   ]
  },
  {
   "cell_type": "code",
   "execution_count": 4,
   "id": "fd4f5285",
   "metadata": {},
   "outputs": [
    {
     "name": "stdout",
     "output_type": "stream",
     "text": [
      "Found 516 files belonging to 5 classes.\n",
      "Using 103 files for validation.\n"
     ]
    }
   ],
   "source": [
    "val_ds = tf.keras.utils.image_dataset_from_directory(\n",
    "  data_dir,\n",
    "  validation_split=0.2,\n",
    "  subset=\"validation\",\n",
    "  seed=123,\n",
    "  image_size=(img_height, img_width),\n",
    "  batch_size=batch_size)"
   ]
  },
  {
   "cell_type": "code",
   "execution_count": 5,
   "id": "1dde1a38",
   "metadata": {},
   "outputs": [
    {
     "name": "stdout",
     "output_type": "stream",
     "text": [
      "['BEIGE-BLUE-DARK', 'BEIGE-EMP', 'BEIGE-GRI', 'TRV-CLASSIC-VS', 'TRV-NOCE']\n"
     ]
    }
   ],
   "source": [
    "class_names = train_ds.class_names\n",
    "print(class_names)"
   ]
  },
  {
   "cell_type": "code",
   "execution_count": 6,
   "id": "f48b6cb0",
   "metadata": {},
   "outputs": [
    {
     "name": "stdout",
     "output_type": "stream",
     "text": [
      "(32, 180, 180, 3)\n",
      "(32,)\n"
     ]
    }
   ],
   "source": [
    "for image_batch, labels_batch in train_ds:\n",
    "    print(image_batch.shape)\n",
    "    print(labels_batch.shape)\n",
    "    break"
   ]
  },
  {
   "cell_type": "code",
   "execution_count": 7,
   "id": "1473eaec",
   "metadata": {},
   "outputs": [],
   "source": [
    "normalization_layer = layers.Rescaling(1./255)"
   ]
  },
  {
   "cell_type": "code",
   "execution_count": 8,
   "id": "61e179ec",
   "metadata": {},
   "outputs": [
    {
     "name": "stdout",
     "output_type": "stream",
     "text": [
      "0.47193018 1.0\n"
     ]
    }
   ],
   "source": [
    "normalized_ds = train_ds.map(lambda x, y: (normalization_layer(x), y))\n",
    "image_batch, labels_batch = next(iter(normalized_ds))\n",
    "first_image = image_batch[0]\n",
    "# Notice the pixel values are now in `[0,1]`.\n",
    "print(np.min(first_image), np.max(first_image))"
   ]
  },
  {
   "cell_type": "code",
   "execution_count": 9,
   "id": "040bbac4",
   "metadata": {},
   "outputs": [],
   "source": [
    "num_classes = len(class_names)\n",
    "\n",
    "model = Sequential([\n",
    "  layers.Rescaling(1./255, input_shape=(img_height, img_width, 3)),\n",
    "  layers.Conv2D(16, 3, padding='same', activation='relu'),\n",
    "  layers.MaxPooling2D(),\n",
    "  layers.Conv2D(32, 3, padding='same', activation='relu'),\n",
    "  layers.MaxPooling2D(),\n",
    "  layers.Conv2D(64, 3, padding='same', activation='relu'),\n",
    "  layers.MaxPooling2D(),\n",
    "  layers.Flatten(),\n",
    "  layers.Dense(128, activation='relu'),\n",
    "  layers.Dense(num_classes)\n",
    "])"
   ]
  },
  {
   "cell_type": "code",
   "execution_count": 10,
   "id": "70d47e9b",
   "metadata": {},
   "outputs": [],
   "source": [
    "model.compile(optimizer='adam',\n",
    "              loss=tf.keras.losses.SparseCategoricalCrossentropy(from_logits=True),\n",
    "              metrics=['accuracy'])"
   ]
  },
  {
   "cell_type": "code",
   "execution_count": 11,
   "id": "23de29c7",
   "metadata": {},
   "outputs": [
    {
     "name": "stdout",
     "output_type": "stream",
     "text": [
      "Model: \"sequential\"\n",
      "_________________________________________________________________\n",
      " Layer (type)                Output Shape              Param #   \n",
      "=================================================================\n",
      " rescaling_1 (Rescaling)     (None, 180, 180, 3)       0         \n",
      "                                                                 \n",
      " conv2d (Conv2D)             (None, 180, 180, 16)      448       \n",
      "                                                                 \n",
      " max_pooling2d (MaxPooling2D  (None, 90, 90, 16)       0         \n",
      " )                                                               \n",
      "                                                                 \n",
      " conv2d_1 (Conv2D)           (None, 90, 90, 32)        4640      \n",
      "                                                                 \n",
      " max_pooling2d_1 (MaxPooling  (None, 45, 45, 32)       0         \n",
      " 2D)                                                             \n",
      "                                                                 \n",
      " conv2d_2 (Conv2D)           (None, 45, 45, 64)        18496     \n",
      "                                                                 \n",
      " max_pooling2d_2 (MaxPooling  (None, 22, 22, 64)       0         \n",
      " 2D)                                                             \n",
      "                                                                 \n",
      " flatten (Flatten)           (None, 30976)             0         \n",
      "                                                                 \n",
      " dense (Dense)               (None, 128)               3965056   \n",
      "                                                                 \n",
      " dense_1 (Dense)             (None, 5)                 645       \n",
      "                                                                 \n",
      "=================================================================\n",
      "Total params: 3,989,285\n",
      "Trainable params: 3,989,285\n",
      "Non-trainable params: 0\n",
      "_________________________________________________________________\n"
     ]
    }
   ],
   "source": [
    "model.summary()"
   ]
  },
  {
   "cell_type": "code",
   "execution_count": 12,
   "id": "0edabc81",
   "metadata": {},
   "outputs": [
    {
     "name": "stdout",
     "output_type": "stream",
     "text": [
      "Epoch 1/10\n",
      "13/13 [==============================] - 12s 679ms/step - loss: 1.7486 - accuracy: 0.3148 - val_loss: 1.4132 - val_accuracy: 0.5534\n",
      "Epoch 2/10\n",
      "13/13 [==============================] - 8s 592ms/step - loss: 1.2708 - accuracy: 0.4843 - val_loss: 1.0124 - val_accuracy: 0.6117\n",
      "Epoch 3/10\n",
      "13/13 [==============================] - 8s 589ms/step - loss: 1.0149 - accuracy: 0.5787 - val_loss: 0.8690 - val_accuracy: 0.6796\n",
      "Epoch 4/10\n",
      "13/13 [==============================] - 8s 608ms/step - loss: 0.9395 - accuracy: 0.6247 - val_loss: 0.7869 - val_accuracy: 0.6990\n",
      "Epoch 5/10\n",
      "13/13 [==============================] - 8s 585ms/step - loss: 0.8868 - accuracy: 0.6392 - val_loss: 0.7518 - val_accuracy: 0.6990\n",
      "Epoch 6/10\n",
      "13/13 [==============================] - 7s 538ms/step - loss: 0.8250 - accuracy: 0.6562 - val_loss: 0.7453 - val_accuracy: 0.7282\n",
      "Epoch 7/10\n",
      "13/13 [==============================] - 6s 469ms/step - loss: 0.8800 - accuracy: 0.6344 - val_loss: 0.9758 - val_accuracy: 0.5922\n",
      "Epoch 8/10\n",
      "13/13 [==============================] - 7s 497ms/step - loss: 0.9224 - accuracy: 0.6102 - val_loss: 0.9617 - val_accuracy: 0.6214\n",
      "Epoch 9/10\n",
      "13/13 [==============================] - 6s 465ms/step - loss: 0.8536 - accuracy: 0.6659 - val_loss: 0.6851 - val_accuracy: 0.7573\n",
      "Epoch 10/10\n",
      "13/13 [==============================] - 6s 480ms/step - loss: 0.7005 - accuracy: 0.7433 - val_loss: 0.9650 - val_accuracy: 0.6408\n"
     ]
    }
   ],
   "source": [
    "epochs=10\n",
    "history = model.fit(\n",
    "  train_ds,\n",
    "  validation_data=val_ds,\n",
    "  epochs=epochs\n",
    ")"
   ]
  },
  {
   "cell_type": "code",
   "execution_count": 13,
   "id": "dc431964",
   "metadata": {},
   "outputs": [],
   "source": [
    "data_augmentation = keras.Sequential(\n",
    "  [\n",
    "    layers.RandomFlip(\"horizontal\",\n",
    "                      input_shape=(img_height,\n",
    "                                  img_width,\n",
    "                                  3)),\n",
    "    layers.RandomRotation(0.1),\n",
    "    layers.RandomZoom(0.1),\n",
    "  ]\n",
    ")"
   ]
  },
  {
   "cell_type": "code",
   "execution_count": 14,
   "id": "fb9a5557",
   "metadata": {},
   "outputs": [],
   "source": [
    "model = Sequential([\n",
    "  data_augmentation,\n",
    "  layers.Rescaling(1./255),\n",
    "  layers.Conv2D(16, 3, padding='same', activation='relu'),\n",
    "  layers.MaxPooling2D(),\n",
    "  layers.Conv2D(32, 3, padding='same', activation='relu'),\n",
    "  layers.MaxPooling2D(),\n",
    "  layers.Conv2D(64, 3, padding='same', activation='relu'),\n",
    "  layers.MaxPooling2D(),\n",
    "  layers.Dropout(0.2),\n",
    "  layers.Flatten(),\n",
    "  layers.Dense(128, activation='relu'),\n",
    "  layers.Dense(num_classes)\n",
    "])"
   ]
  },
  {
   "cell_type": "code",
   "execution_count": 15,
   "id": "8ecce44d",
   "metadata": {},
   "outputs": [],
   "source": [
    "model.compile(optimizer='adam',\n",
    "              loss=tf.keras.losses.SparseCategoricalCrossentropy(from_logits=True),\n",
    "              metrics=['accuracy'])"
   ]
  },
  {
   "cell_type": "code",
   "execution_count": 16,
   "id": "79da3f59",
   "metadata": {},
   "outputs": [
    {
     "name": "stdout",
     "output_type": "stream",
     "text": [
      "Model: \"sequential_2\"\n",
      "_________________________________________________________________\n",
      " Layer (type)                Output Shape              Param #   \n",
      "=================================================================\n",
      " sequential_1 (Sequential)   (None, 180, 180, 3)       0         \n",
      "                                                                 \n",
      " rescaling_2 (Rescaling)     (None, 180, 180, 3)       0         \n",
      "                                                                 \n",
      " conv2d_3 (Conv2D)           (None, 180, 180, 16)      448       \n",
      "                                                                 \n",
      " max_pooling2d_3 (MaxPooling  (None, 90, 90, 16)       0         \n",
      " 2D)                                                             \n",
      "                                                                 \n",
      " conv2d_4 (Conv2D)           (None, 90, 90, 32)        4640      \n",
      "                                                                 \n",
      " max_pooling2d_4 (MaxPooling  (None, 45, 45, 32)       0         \n",
      " 2D)                                                             \n",
      "                                                                 \n",
      " conv2d_5 (Conv2D)           (None, 45, 45, 64)        18496     \n",
      "                                                                 \n",
      " max_pooling2d_5 (MaxPooling  (None, 22, 22, 64)       0         \n",
      " 2D)                                                             \n",
      "                                                                 \n",
      " dropout (Dropout)           (None, 22, 22, 64)        0         \n",
      "                                                                 \n",
      " flatten_1 (Flatten)         (None, 30976)             0         \n",
      "                                                                 \n",
      " dense_2 (Dense)             (None, 128)               3965056   \n",
      "                                                                 \n",
      " dense_3 (Dense)             (None, 5)                 645       \n",
      "                                                                 \n",
      "=================================================================\n",
      "Total params: 3,989,285\n",
      "Trainable params: 3,989,285\n",
      "Non-trainable params: 0\n",
      "_________________________________________________________________\n"
     ]
    }
   ],
   "source": [
    "model.summary()"
   ]
  },
  {
   "cell_type": "code",
   "execution_count": 17,
   "id": "cc532863",
   "metadata": {},
   "outputs": [
    {
     "name": "stdout",
     "output_type": "stream",
     "text": [
      "Epoch 1/15\n",
      "13/13 [==============================] - 13s 691ms/step - loss: 1.8601 - accuracy: 0.2639 - val_loss: 1.4634 - val_accuracy: 0.3786\n",
      "Epoch 2/15\n",
      "13/13 [==============================] - 8s 631ms/step - loss: 1.3784 - accuracy: 0.3753 - val_loss: 1.3035 - val_accuracy: 0.3883\n",
      "Epoch 3/15\n",
      "13/13 [==============================] - 8s 626ms/step - loss: 1.2791 - accuracy: 0.4237 - val_loss: 1.2071 - val_accuracy: 0.4757\n",
      "Epoch 4/15\n",
      "13/13 [==============================] - 9s 640ms/step - loss: 1.1286 - accuracy: 0.5738 - val_loss: 0.9849 - val_accuracy: 0.5728\n",
      "Epoch 5/15\n",
      "13/13 [==============================] - 8s 623ms/step - loss: 0.9374 - accuracy: 0.6126 - val_loss: 0.8088 - val_accuracy: 0.6796\n",
      "Epoch 6/15\n",
      "13/13 [==============================] - 9s 695ms/step - loss: 0.9072 - accuracy: 0.6416 - val_loss: 0.7821 - val_accuracy: 0.7282\n",
      "Epoch 7/15\n",
      "13/13 [==============================] - 8s 626ms/step - loss: 0.7689 - accuracy: 0.7022 - val_loss: 0.6992 - val_accuracy: 0.7476\n",
      "Epoch 8/15\n",
      "13/13 [==============================] - 8s 626ms/step - loss: 0.8139 - accuracy: 0.6659 - val_loss: 0.8016 - val_accuracy: 0.7282\n",
      "Epoch 9/15\n",
      "13/13 [==============================] - 9s 685ms/step - loss: 0.7129 - accuracy: 0.7288 - val_loss: 0.6337 - val_accuracy: 0.7476\n",
      "Epoch 10/15\n",
      "13/13 [==============================] - 9s 639ms/step - loss: 0.6410 - accuracy: 0.7627 - val_loss: 0.8991 - val_accuracy: 0.6990\n",
      "Epoch 11/15\n",
      "13/13 [==============================] - 9s 635ms/step - loss: 1.0105 - accuracy: 0.6247 - val_loss: 0.8377 - val_accuracy: 0.6602\n",
      "Epoch 12/15\n",
      "13/13 [==============================] - 8s 631ms/step - loss: 0.9135 - accuracy: 0.6029 - val_loss: 0.9096 - val_accuracy: 0.6019\n",
      "Epoch 13/15\n",
      "13/13 [==============================] - 9s 655ms/step - loss: 0.7682 - accuracy: 0.7215 - val_loss: 0.7256 - val_accuracy: 0.7379\n",
      "Epoch 14/15\n",
      "13/13 [==============================] - 9s 693ms/step - loss: 0.6788 - accuracy: 0.7361 - val_loss: 0.6751 - val_accuracy: 0.7573\n",
      "Epoch 15/15\n",
      "13/13 [==============================] - 8s 623ms/step - loss: 0.6914 - accuracy: 0.7361 - val_loss: 0.8587 - val_accuracy: 0.6699\n"
     ]
    }
   ],
   "source": [
    "epochs = 15\n",
    "history = model.fit(\n",
    "  train_ds,\n",
    "  validation_data=val_ds,\n",
    "  epochs=epochs\n",
    ")"
   ]
  },
  {
   "cell_type": "code",
   "execution_count": 18,
   "id": "7e5a37be",
   "metadata": {},
   "outputs": [],
   "source": [
    "model.save('marble_model.h5')"
   ]
  },
  {
   "cell_type": "code",
   "execution_count": 25,
   "id": "c6f376da",
   "metadata": {},
   "outputs": [
    {
     "name": "stdout",
     "output_type": "stream",
     "text": [
      "WARNING:tensorflow:6 out of the last 6 calls to <function Model.make_predict_function.<locals>.predict_function at 0x000001B034438C10> triggered tf.function retracing. Tracing is expensive and the excessive number of tracings could be due to (1) creating @tf.function repeatedly in a loop, (2) passing tensors with different shapes, (3) passing Python objects instead of tensors. For (1), please define your @tf.function outside of the loop. For (2), @tf.function has reduce_retracing=True option that can avoid unnecessary retracing. For (3), please refer to https://www.tensorflow.org/guide/function#controlling_retracing and https://www.tensorflow.org/api_docs/python/tf/function for  more details.\n",
      "1/1 [==============================] - 0s 208ms/step\n",
      "This image most likely belongs to BEIGE-BLUE-DARK with a 99.94 percent confidence.\n"
     ]
    }
   ],
   "source": [
    "from tensorflow.keras.models import load_model\n",
    "marbleModel=load_model('marble_model.h5')\n",
    "img = tf.keras.utils.load_img(\n",
    "    'test_resim/mermer_blue.jpg', target_size=(img_height, img_width)\n",
    ")\n",
    "img_array = tf.keras.utils.img_to_array(img)\n",
    "img_array = tf.expand_dims(img_array, 0) # Create a batch\n",
    "\n",
    "predictions = marbleModel.predict(img_array)\n",
    "score = tf.nn.softmax(predictions[0])\n",
    "\n",
    "print(\n",
    "    \"This image most likely belongs to {} with a {:.2f} percent confidence.\"\n",
    "    .format(class_names[np.argmax(score)], 100 * np.max(score))\n",
    ")"
   ]
  },
  {
   "cell_type": "code",
   "execution_count": null,
   "id": "e7bb6253",
   "metadata": {},
   "outputs": [],
   "source": []
  }
 ],
 "metadata": {
  "kernelspec": {
   "display_name": "Python 3 (ipykernel)",
   "language": "python",
   "name": "python3"
  },
  "language_info": {
   "codemirror_mode": {
    "name": "ipython",
    "version": 3
   },
   "file_extension": ".py",
   "mimetype": "text/x-python",
   "name": "python",
   "nbconvert_exporter": "python",
   "pygments_lexer": "ipython3",
   "version": "3.10.4"
  }
 },
 "nbformat": 4,
 "nbformat_minor": 5
}
